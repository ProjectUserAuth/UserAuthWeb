{
 "cells": [
  {
   "cell_type": "code",
   "execution_count": 24,
   "metadata": {},
   "outputs": [],
   "source": [
    "import os\n",
    "from PIL import Image\n",
    "import numpy as np\n",
    "import cv2"
   ]
  },
  {
   "cell_type": "code",
   "execution_count": 25,
   "metadata": {},
   "outputs": [],
   "source": [
    "Dir = os.path.dirname(os.path.abspath('UserAuth'))"
   ]
  },
  {
   "cell_type": "code",
   "execution_count": 26,
   "metadata": {},
   "outputs": [],
   "source": [
    "face_cascade = cv2.CascadeClassifier(cv2.data.haarcascades + \"haarcascade_frontalface_default.xml\")\n"
   ]
  },
  {
   "cell_type": "code",
   "execution_count": 35,
   "metadata": {},
   "outputs": [],
   "source": [
    "image_dir = os.path.join(Dir,\"images\")"
   ]
  },
  {
   "cell_type": "code",
   "execution_count": 36,
   "metadata": {},
   "outputs": [
    {
     "name": "stdout",
     "output_type": "stream",
     "text": [
      "images C:\\Users\\AKASH JOY\\Documents\\UserAuth\\images\\foreign-2.jpg\n",
      "0\n",
      "[[255 255 255 ... 255 255 255]\n",
      " [255 255 255 ... 255 255 255]\n",
      " [255 255 255 ... 255 255 255]\n",
      " ...\n",
      " [255 255 255 ... 255 255 255]\n",
      " [255 255 255 ... 255 255 255]\n",
      " [255 255 255 ... 255 255 255]]\n",
      "images C:\\Users\\AKASH JOY\\Documents\\UserAuth\\images\\foreign-3.jpg\n",
      "0\n",
      "[[244 244 243 ... 252 252 252]\n",
      " [246 246 244 ... 252 252 252]\n",
      " [248 247 245 ... 253 253 253]\n",
      " ...\n",
      " [246 246 246 ... 240 240 240]\n",
      " [248 247 247 ... 238 239 240]\n",
      " [248 247 247 ... 238 239 240]]\n",
      "images C:\\Users\\AKASH JOY\\Documents\\UserAuth\\images\\foreign-4.jpg\n",
      "0\n",
      "[[26 26 26 ... 42 42 41]\n",
      " [23 23 23 ... 37 37 37]\n",
      " [21 21 21 ... 45 44 44]\n",
      " ...\n",
      " [27 31 28 ... 54 52 49]\n",
      " [29 31 13 ... 56 53 50]\n",
      " [38 26 15 ... 58 55 51]]\n",
      "images C:\\Users\\AKASH JOY\\Documents\\UserAuth\\images\\foreign-5.jpg\n",
      "0\n",
      "[[0 0 0 ... 0 0 0]\n",
      " [0 0 0 ... 0 0 0]\n",
      " [0 0 0 ... 0 0 0]\n",
      " ...\n",
      " [0 0 0 ... 0 0 0]\n",
      " [0 0 0 ... 0 0 0]\n",
      " [0 0 0 ... 0 0 0]]\n",
      "johnnydeep C:\\Users\\AKASH JOY\\Documents\\UserAuth\\images\\JohnnyDeep\\download1.jpg\n",
      "1\n",
      "[[148 151 156 ... 184 191 195]\n",
      " [147 151 156 ... 185 190 191]\n",
      " [147 151 156 ... 186 189 189]\n",
      " ...\n",
      " [ 78  80  80 ... 150 147 145]\n",
      " [ 76  79  80 ... 142 138 143]\n",
      " [ 75  78  79 ... 134 131 146]]\n",
      "johnnydeep C:\\Users\\AKASH JOY\\Documents\\UserAuth\\images\\JohnnyDeep\\download2.jpg\n",
      "1\n",
      "[[149 150 150 ... 191 191 191]\n",
      " [149 150 150 ... 190 190 190]\n",
      " [149 149 150 ... 190 190 190]\n",
      " ...\n",
      " [ 88  87  85 ...  22  22  22]\n",
      " [ 88  87  85 ...  22  22  22]\n",
      " [ 88  87  85 ...  22  22  22]]\n",
      "johnnydeep C:\\Users\\AKASH JOY\\Documents\\UserAuth\\images\\JohnnyDeep\\download3.jpg\n",
      "1\n",
      "[[146 145 144 ... 112 113 111]\n",
      " [147 146 145 ... 112 113 110]\n",
      " [148 148 146 ... 111 112 110]\n",
      " ...\n",
      " [ 37  36  35 ...  25  34  29]\n",
      " [ 37  36  35 ...  25  34  29]\n",
      " [ 36  36  35 ...  25  34  30]]\n",
      "johnnydeep C:\\Users\\AKASH JOY\\Documents\\UserAuth\\images\\JohnnyDeep\\download4.jpg\n",
      "1\n",
      "[[ 4  4  4 ... 65 65 65]\n",
      " [ 4  4  4 ... 65 65 65]\n",
      " [ 4  4  4 ... 65 65 65]\n",
      " ...\n",
      " [18 18 18 ... 11  9  9]\n",
      " [18 18 18 ... 11  9  9]\n",
      " [18 18 18 ... 11  9  9]]\n",
      "johnnydeep C:\\Users\\AKASH JOY\\Documents\\UserAuth\\images\\JohnnyDeep\\download5.jpg\n",
      "1\n",
      "[[29 30 31 ... 13 13 13]\n",
      " [28 29 31 ... 13 13 13]\n",
      " [27 28 30 ... 13 13 13]\n",
      " ...\n",
      " [25 24 23 ...  4  3  1]\n",
      " [24 23 22 ...  4  3  1]\n",
      " [24 23 22 ...  4  3  1]]\n",
      "johnnydeep C:\\Users\\AKASH JOY\\Documents\\UserAuth\\images\\JohnnyDeep\\foreign-1.jpg\n",
      "1\n",
      "[[182 182 182 ... 113 113 114]\n",
      " [182 182 182 ... 114 114 114]\n",
      " [183 183 183 ... 115 115 114]\n",
      " ...\n",
      " [162 162 161 ... 254 254 254]\n",
      " [163 162 161 ... 254 254 254]\n",
      " [163 162 161 ... 254 254 254]]\n"
     ]
    }
   ],
   "source": [
    "cur_id = 0\n",
    "labels_ids = {}\n",
    "y_labels = []\n",
    "x_train = []\n",
    "for root,dirs,files in os.walk(image_dir):\n",
    "    for file in files:\n",
    "        if(file.endswith(\"png\") or file.endswith(\"jpg\")):\n",
    "            path = os.path.join(root,file)\n",
    "            label = os.path.basename(root).replace(\" \",\"-\").lower()\n",
    "            print(label,path)\n",
    "            if not label in labels_ids:\n",
    "                labels_ids[label] = cur_id\n",
    "                cur_id = cur_id+1\n",
    "            id_got = labels_ids[label]\n",
    "            print(id_got)\n",
    "            pil_image = Image.open(path).convert(\"L\") #grayScale\n",
    "            image_array = np.array(pil_image,\"uint8\")\n",
    "            print(image_array)\n",
    "            faces = face_cascade.detectMultiScale(image_array,scaleFactor=1.5,minNeighbors=5)\n",
    "            for (x,y,w,h) in faces:\n",
    "                roi = image_array[y:y+h,x:x+w]\n",
    "                x_train.append(roi)\n",
    "                y_labels.append(id_got)\n",
    "                "
   ]
  },
  {
   "cell_type": "code",
   "execution_count": null,
   "metadata": {},
   "outputs": [],
   "source": []
  }
 ],
 "metadata": {
  "kernelspec": {
   "display_name": "Python 3",
   "language": "python",
   "name": "python3"
  },
  "language_info": {
   "codemirror_mode": {
    "name": "ipython",
    "version": 3
   },
   "file_extension": ".py",
   "mimetype": "text/x-python",
   "name": "python",
   "nbconvert_exporter": "python",
   "pygments_lexer": "ipython3",
   "version": "3.8.5"
  }
 },
 "nbformat": 4,
 "nbformat_minor": 4
}
