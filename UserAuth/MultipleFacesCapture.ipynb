{
 "cells": [
  {
   "cell_type": "code",
   "execution_count": 1,
   "metadata": {},
   "outputs": [],
   "source": [
    "import numpy as np\n",
    "import cv2"
   ]
  },
  {
   "cell_type": "code",
   "execution_count": 2,
   "metadata": {},
   "outputs": [],
   "source": [
    "face_cascade = cv2.CascadeClassifier(cv2.data.haarcascades+\"haarcascade_frontalface_default.xml\")"
   ]
  },
  {
   "cell_type": "code",
   "execution_count": 3,
   "metadata": {},
   "outputs": [],
   "source": [
    "capture = cv2.VideoCapture(0)\n",
    "c = 0\n",
    "count = 5\n",
    "while True:\n",
    "    ret,frame = capture.read()\n",
    "    gray = cv2.cvtColor(frame,cv2.COLOR_BGR2GRAY)\n",
    "    faces = face_cascade.detectMultiScale(gray,scaleFactor=1.5,minNeighbors = 10)\n",
    "    for(x,y,w,h) in faces:\n",
    "        roi_gray = gray[y:y+h,x:x+w]\n",
    "        while c<count:\n",
    "            ret,frame1 = capture.read()\n",
    "            roi_gray = gray[y:y+h,x:x+w]\n",
    "            cv2.imshow(\"testWindow\",frame1)        \n",
    "            img_item = \"img.png\"\n",
    "            cv2.imwrite(\"image%04i.png\"%c,frame1)\n",
    "            c = c+1\n",
    "        color = (255,0,0)\n",
    "        stroke = 5\n",
    "        second_X = x+w\n",
    "        second_Y = y+h\n",
    "        cv2.rectangle(frame,(x,y),(second_X,second_Y),color,stroke)\n",
    "        cv2.imshow('frame',frame)\n",
    "    if(cv2.waitKey(20) & 0xff == ord('q')):\n",
    "        break\n",
    "capture.release()\n",
    "cv2.destroyAllWindows()"
   ]
  },
  {
   "cell_type": "code",
   "execution_count": null,
   "metadata": {},
   "outputs": [],
   "source": []
  }
 ],
 "metadata": {
  "kernelspec": {
   "display_name": "Python 3",
   "language": "python",
   "name": "python3"
  },
  "language_info": {
   "codemirror_mode": {
    "name": "ipython",
    "version": 3
   },
   "file_extension": ".py",
   "mimetype": "text/x-python",
   "name": "python",
   "nbconvert_exporter": "python",
   "pygments_lexer": "ipython3",
   "version": "3.8.5"
  }
 },
 "nbformat": 4,
 "nbformat_minor": 4
}
