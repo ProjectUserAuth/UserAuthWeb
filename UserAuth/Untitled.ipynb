{
 "cells": [
  {
   "cell_type": "code",
   "execution_count": 5,
   "metadata": {},
   "outputs": [],
   "source": [
    "import numpy as np\n",
    "import cv2"
   ]
  },
  {
   "cell_type": "code",
   "execution_count": 6,
   "metadata": {},
   "outputs": [],
   "source": [
    "face_cascade = cv2.CascadeClassifier(cv2.data.haarcascades + \"haarcascade_frontalface_default.xml\")\n"
   ]
  },
  {
   "cell_type": "code",
   "execution_count": 11,
   "metadata": {},
   "outputs": [],
   "source": [
    "cap  = cv2.VideoCapture(0)\n",
    "# count = 5\n",
    "# c = 0\n",
    "while(True):\n",
    "    ret,frame = cap.read()\n",
    "    gray = cv2.cvtColor(frame,cv2.COLOR_BGR2GRAY)\n",
    "    faces = face_cascade.detectMultiScale(gray,scaleFactor = 1.5,minNeighbors = 3)\n",
    "    for(x,y,w,h) in faces:\n",
    "#         print(x,y,w,h)\n",
    "        roi_gray = gray[y:y+h,x:x+w]\n",
    "#         cv2.imshow(\"testWindow\",frame)\n",
    "#         roi_color = frame[y:y+h,x:x+w]\n",
    "        img_item = \"my_img.png\"\n",
    "        cv2.imwrite(img_item,roi_gray)\n",
    "#             c=c+1\n",
    "#     Capture Multiple Images\n",
    "#     while c<count:\n",
    "#         ret,frame1 = cap.read()\n",
    "#         roi_gray = gray[y:y+h,x:x+w]\n",
    "#         cv2.imshow(\"testWindow\",frame1)\n",
    "#         img_item = \"my_img.png\"\n",
    "#         cv2.imwrite(\"image%04i.png\" %c,frame1)\n",
    "#         c=c+1\n",
    "        color = (255,0,0)\n",
    "        stroke = 5\n",
    "        second_X = x+w\n",
    "        second_Y = y+h\n",
    "        cv2.rectangle(frame,(x,y),(second_X,second_Y),color,stroke)\n",
    "    cv2.imshow('frame',frame)\n",
    "    if(cv2.waitKey(20) & 0xff == ord('q')):\n",
    "        break\n",
    "    \n",
    "cap.release()\n",
    "cv2.destroyAllWindows()"
   ]
  },
  {
   "cell_type": "code",
   "execution_count": 3,
   "metadata": {},
   "outputs": [],
   "source": [
    "import cv2"
   ]
  },
  {
   "cell_type": "code",
   "execution_count": 4,
   "metadata": {},
   "outputs": [
    {
     "name": "stdout",
     "output_type": "stream",
     "text": [
      "C:\\anaconda\\lib\\site-packages\\cv2\\cv2.cp38-win32.pyd\n"
     ]
    }
   ],
   "source": [
    "print(cv2.__file__)"
   ]
  },
  {
   "cell_type": "code",
   "execution_count": null,
   "metadata": {},
   "outputs": [],
   "source": []
  }
 ],
 "metadata": {
  "kernelspec": {
   "display_name": "Python 3",
   "language": "python",
   "name": "python3"
  },
  "language_info": {
   "codemirror_mode": {
    "name": "ipython",
    "version": 3
   },
   "file_extension": ".py",
   "mimetype": "text/x-python",
   "name": "python",
   "nbconvert_exporter": "python",
   "pygments_lexer": "ipython3",
   "version": "3.8.5"
  }
 },
 "nbformat": 4,
 "nbformat_minor": 4
}
